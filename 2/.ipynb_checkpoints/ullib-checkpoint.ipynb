{
 "cells": [
  {
   "cell_type": "markdown",
   "metadata": {},
   "source": [
    "# urllib.parse 모듈 \n",
    "### url 분해, 조립, 변경 및 url 문자 인코딩, 디코딩 처리 함수 제공"
   ]
  },
  {
   "cell_type": "code",
   "execution_count": 1,
   "metadata": {},
   "outputs": [
    {
     "data": {
      "text/plain": [
       "ParseResult(scheme='http', netloc='www.python.org:80', path='/huido/python.html', params='philosophy', query='overall=3', fragment='n10')"
      ]
     },
     "execution_count": 1,
     "metadata": {},
     "output_type": "execute_result"
    }
   ],
   "source": [
    "from urllib.parse import urlparse\n",
    "result = urlparse('http://www.python.org:80/huido/python.html;philosophy?overall=3#n10')\n",
    "# urlparse 함수를 이용한\n",
    "result # url 파싱한 결과 출력, ParseResult 인스턴스 반환\n"
   ]
  },
  {
   "cell_type": "markdown",
   "metadata": {},
   "source": [
    "# schema : url 에 사용한 프로토콜\n",
    "### netloc : 네트워크 위치.user:password@hostname:port 형식 표현, http경우 host:post 형식\n",
    "### path : 파일이나 애플리케이션 경로 의미\n",
    "### params : 애플리케이션에 전달될 매개변수(현재 사용 x)\n",
    "### query : 질이 문자열 또는 매개변수로, 앰퍼샌트(&)로 구분된 (이름 = 값) 쌍으로 표시됨\n",
    "### fragment : 문자내의 앵커 등 조각을 지정"
   ]
  },
  {
   "cell_type": "markdown",
   "metadata": {},
   "source": [
    "# urllib.request 모듈\n",
    "### 주어진 url 에서 데이터를 가져오는 기본 기능을 제공\n",
    "### 디폴트 요청 방식은 get 이고 웹서버에 전달할 파라미터가 있으면 질의 문자열을 url 인자에 포함해서 보냄\n",
    "### 요청 방식을 post로 보내고 싶으면 data 인자에 질의 문자열을 지정함\n"
   ]
  },
  {
   "cell_type": "code",
   "execution_count": 2,
   "metadata": {},
   "outputs": [
    {
     "name": "stdout",
     "output_type": "stream",
     "text": [
      "<!doctype html>\n",
      "<html>\n",
      "<head>\n",
      "    <title>Example Domain</title>\n",
      "\n",
      "    <meta charset=\"utf-8\" />\n",
      "    <meta http-equiv=\"Content-type\" content=\"text/html; charset=utf-8\" />\n",
      "    <meta name=\"viewport\" content=\"width=device-width, initial-scale=1\" />\n",
      "    <style type=\"text/css\">\n",
      "    body {\n",
      "        background-color: #f0f0f2;\n",
      "        margin: 0;\n",
      "        padding: 0;\n",
      "        font-family: \"Open Sans\", \"Helvetica Neue\", Helvetica, Arial, sans-serif;\n",
      "        \n",
      "    }\n",
      "    div {\n",
      "        width: 600px;\n",
      "        margin:\n"
     ]
    }
   ],
   "source": [
    "# urlopen() 함수\n",
    "# urlopen(url, data = None, [timeout])\n",
    "# url로 get/post 방식의 간단한 요청 처리 -> urlopen()함수만으로 가능\n",
    "\n",
    "# get 방식 요청 \n",
    "from urllib.request import urlopen\n",
    "f = urlopen('http://www.example.com')\n",
    "print(f.read(500).decode('utf-8'))"
   ]
  },
  {
   "cell_type": "code",
   "execution_count": 3,
   "metadata": {},
   "outputs": [
    {
     "name": "stdout",
     "output_type": "stream",
     "text": [
      "<!DOCTYPE html>\n",
      "<html lang=\"ko\">\n",
      "\n",
      "\n",
      "\n",
      "<head>\n",
      "\n",
      "    <meta charset=\"utf-8\">\n",
      "    <meta http-equiv=\"X-UA-Compatible\" content=\"IE=edge\">\n",
      "    <meta name=\"viewport\" content=\"width=device-width, initial-scale=1\">\n",
      "\n",
      "    <title>ch2-test-server</title>\n",
      "\n",
      "    <link rel=\"stylesheet\" href=\"https://maxcdn.bootstrapcdn.com/bootstrap/3.3.6/css/bootstrap.min.css\">\n",
      "    <link rel=\"stylesheet\" href=\"https://maxcdn.bootstrapcdn.com/bootstrap/3.3.6/css/bootstrap-theme.min.css\">\n",
      "\n",
      "    <!-- my css -->\n",
      "    <link rel=\"shortcut \n"
     ]
    }
   ],
   "source": [
    "# post 방식 요청\n",
    "from urllib.request import urlopen\n",
    "data = 'language=python&framework=django'\n",
    "f = urlopen('http://127.0.0.1:8000', bytes(data, encoding='utf-8'))\n",
    "# data 인자는 urll에 허용된 문자열로 인코딩되어야 하고 바이트 스트링 \n",
    "# bytes 타입이어야  함\n",
    "print(f.read(500).decode('utf-8'))\n"
   ]
  },
  {
   "cell_type": "code",
   "execution_count": 4,
   "metadata": {},
   "outputs": [
    {
     "name": "stdout",
     "output_type": "stream",
     "text": [
      "Date: Sat, 20 Jul 2019 07:55:22 GMT\n",
      "Server: WSGIServer/0.2 CPython/3.7.2\n",
      "Content-Type: text/html; charset=utf-8\n",
      "X-Frame-Options: SAMEORIGIN\n",
      "Content-Length: 1757\n",
      "\n",
      "\n",
      "<!DOCTYPE html>\n",
      "<html lang=\"ko\">\n",
      "\n",
      "\n",
      "\n",
      "<head>\n",
      "\n",
      "    <meta charset=\"utf-8\">\n",
      "    <meta http-equiv=\"X-UA-Compatible\" content=\"IE=edge\">\n",
      "    <meta name=\"viewport\" content=\"width=device-width, initial-scale=1\">\n",
      "\n",
      "    <title>ch2-test-server</title>\n",
      "\n",
      "    <link rel=\"stylesheet\" href=\"https://maxcdn.bootstrapcdn.com/bootstrap/3.3.6/css/bootstrap.min.css\">\n",
      "    <link rel=\"stylesheet\" href=\"https://maxcdn.bootstrapcdn.com/bootstrap/3.3.6/css/bootstrap-theme.min.css\">\n",
      "\n",
      "    <!-- my css -->\n",
      "    <link rel=\"shortcut \n"
     ]
    }
   ],
   "source": [
    "# put, head 메소드 등 헤더 조작이 필요한 경우 - Request 클래스 같이 사용\n",
    "\n",
    "from urllib.request import urlopen, Request\n",
    "from urllib.parse import urlencode\n",
    "\n",
    "url = 'http://127.0.0.1:8000'\n",
    "data = {\n",
    "    'name' : '김석훈',\n",
    "    'email' : 'shkim@naver.com',\n",
    "    'url' : 'http://www.naver.com'\n",
    "}\n",
    "encData = urlencode(data)\n",
    "postData = bytes(encData, encoding='utf-8')\n",
    "req = Request(url, data=postData) # Request 객체 생성\n",
    "# request 객체에 add_header()로 헤더  추가하여 웹 서버로 요청  보냄\n",
    "# request객체에 post 방식 요청을 보내기 위해 data 인자 지정\n",
    "req.add_header('Content=Type', 'application/x-www-form-urlencoded')\n",
    "f = urlopen(req) # url 문자열 대신 req 객체 지정\n",
    "print(f.info())\n",
    "print(f.read(500).decode('utf-8'))\n"
   ]
  },
  {
   "cell_type": "code",
   "execution_count": 5,
   "metadata": {},
   "outputs": [
    {
     "name": "stdout",
     "output_type": "stream",
     "text": [
      "This is Basic Auth Success Response.\n"
     ]
    }
   ],
   "source": [
    "# 인증, 쿠키, 프록시 등 복잡한 요청 처리 : \n",
    "# 인증/쿠키/프록시 해당 핸들러 클래스를 같이 사용\n",
    "\n",
    "# urlopen() 함수 - HTTPBasicAuthHandler 클래스로 인증 요청\n",
    "from urllib.request import HTTPBasicAuthHandler, build_opener\n",
    "\n",
    "# 핸들러 객체 정의\n",
    "auth_handler = HTTPBasicAuthHandler()\n",
    "auth_handler.add_password(realm='ksh', user='shkim', passwd='shkimadmin', uri='http://127.0.0.1:8000/auth/')\n",
    "# 핸들러 build_opener() 함수를 사용하여 오프너에 등록\n",
    "opener = build_opener(auth_handler)\n",
    "# 오프너의 open() 함수를 호출하면 서버로 요청 전송\n",
    "resp = opener.open('http://127.0.0.1:8000/auth/')\n",
    "print(resp.read().decode('utf-8'))\n"
   ]
  },
  {
   "cell_type": "code",
   "execution_count": 6,
   "metadata": {},
   "outputs": [
    {
     "name": "stdout",
     "output_type": "stream",
     "text": [
      "Date: Sat, 20 Jul 2019 07:55:23 GMT\n",
      "Server: WSGIServer/0.2 CPython/3.7.2\n",
      "Content-Type: text/html; charset=utf-8\n",
      "X-Frame-Options: SAMEORIGIN\n",
      "Content-Length: 59\n",
      "Vary: Cookie\n",
      "Set-Cookie: sessionid=hlgwj6t3avla8opyhu5r3iv484pp6mn7; expires=Sat, 03 Aug 2019 07:55:23 GMT; HttpOnly; Max-Age=1209600; Path=/; SameSite=Lax\n",
      "\n",
      "\n",
      "GET Request&Response... This is set_test_cookie() Response.\n",
      "------------------------------------------\n",
      "Date: Sat, 20 Jul 2019 07:55:23 GMT\n",
      "Server: WSGIServer/0.2 CPython/3.7.2\n",
      "Content-Type: text/html; charset=utf-8\n",
      "X-Frame-Options: SAMEORIGIN\n",
      "Content-Length: 45\n",
      "Vary: Cookie\n",
      "Set-Cookie: sessionid=hlgwj6t3avla8opyhu5r3iv484pp6mn7; expires=Sat, 03 Aug 2019 07:55:23 GMT; HttpOnly; Max-Age=1209600; Path=/; SameSite=Lax\n",
      "\n",
      "\n",
      "POST Request&Response... OK. Cookie received.\n"
     ]
    }
   ],
   "source": [
    "# urlopen() 함수 -> HTTPCookieProcessor 클래스로 쿠키 데이터 포함하여 요청\n",
    "\n",
    "from urllib.request import Request, HTTPCookieProcessor, build_opener\n",
    "\n",
    "url = 'http://127.0.0.1:8000/cookie/'\n",
    "\n",
    "# first request (GET) with cookie handler\n",
    "# 첫번째 요청에서 쿠키를 담을 준비를 하고 서버로 요청을 보냄\n",
    "# 쿠키 핸들러 생성, 쿠키 데이터 저장은 디폴트로 CookieJar 객체를 사용함\n",
    "cookie_handler = HTTPCookieProcessor()\n",
    "opener = build_opener(cookie_handler)\n",
    "\n",
    "req = Request(url)\n",
    "res = opener.open(req)\n",
    "\n",
    "print(res.info())\n",
    "print(res.read().decode('utf-8'))\n",
    "\n",
    "# second request (POST)\n",
    "# 두번째 요청에 쿠키 데이터가 없다면 서버에서 에러로 응답\n",
    "print('------------------------------------------')\n",
    "\n",
    "data = 'language = python&framework=django'\n",
    "encData = bytes(data, encoding='utf-8')\n",
    "\n",
    "req = Request(url, encData)\n",
    "res = opener.open(req)\n",
    "\n",
    "print(res.info())\n",
    "print(res.read().decode('utf-8'))\n",
    "\n",
    "\n",
    "\n",
    "\n"
   ]
  },
  {
   "cell_type": "markdown",
   "metadata": {},
   "source": [
    "# urllib.request 모듈 예제\n",
    "## 특정 웹 사이트에서 이미지만을 검색하여 그 리스트를 보여주는 코드\n",
    "## HTMLParser 클래스 html.parser 모듈에 정의되고 있고, html 문서를 파싱하는 데 사용되는 클래스 "
   ]
  },
  {
   "cell_type": "code",
   "execution_count": 15,
   "metadata": {},
   "outputs": [
    {
     "name": "stdout",
     "output_type": "stream",
     "text": [
      "\n",
      ">>>> Fetch Images from http://www.google.co.kr\n",
      "/logos/doodles/2019/50th-anniversary-of-the-moon-landing-6524862532157440.2-l.png\n",
      "/textinputassistant/tia.png\n"
     ]
    }
   ],
   "source": [
    "# 필요한 함수 및 클래스를 임포트\n",
    "from urllib.request import urlopen\n",
    "from html.parser import HTMLParser\n",
    "\n",
    "# HTMLParser 클래스를 사용할 때는 이렇게 상속받는 클래스를 정의\n",
    "# 하고, 필요한 내용은 오버라이드 함\n",
    "class ImageParser(HTMLParser): \n",
    "    # <img> 태크를 찾기 위하여 handle_strattag() 함수를 오버라이드\n",
    "    def handle_starttag(self, tag, attrs): # 태그 시작을 처리하기 위해 호출\n",
    "    # tag : 태그 이름, attrs : 태그 속성, 깂 목록 -> a href='naver.com'\n",
    "        if tag != 'img': # <img> 태그가 아니면\n",
    "            return # 종료\n",
    "        if not hasattr(self, 'result'):  # self 에 result 라는 문자열이 있으면?\n",
    "            self.result = [] # 빈 리스트 생성 \n",
    "        for name, value in attrs: # attrs[속성이름, 속성값] 에 속성이름과 속성값이\n",
    "            if name == 'src': # 속성이름이 src 이\n",
    "                self.result.append(value)\n",
    "                \n",
    "                    \n",
    "def parse_image(data): # HTML 문장이 주어지면 HTMLParser 클래스를 사용해 \n",
    "     # 이미지를 찾고  그 리스트를 출력해주는 함수\n",
    "    parser = ImageParser()\n",
    "    parser.feed(data) # HTML 문장을 feed() 함수에 주면 바로 파싱하고  \n",
    "    # parser.result 리스트에 추가\n",
    "    dataSet = set(x for x in parser.result) # 파싱 결과를 set 타입의 dataSet으로 모아줌\n",
    "    # 만일 parser.result 리스트에 중복된 항목이 있다면 set() 기능에 의해 제거됨\n",
    "    return dataSet # dataSet로 모은 파싱결과를 리턴 \n",
    "    \n",
    "def main(): \n",
    "    # 프로그램의 시작점인 메인 함수로, www.google.co.kr 사이트 검색하여\n",
    "    # 이미지를 찾는 함수\n",
    "    url = 'http://www.google.co.kr'\n",
    "    with urlopen(url) as f: # urlopen() 함수를 사용하여 구글 사이트에 접속한\n",
    "        # 후 첫 페이지 내용 가져옴\n",
    "        # 사이트에서 가져오는 데이터는 인코딩 된 데이터이므로 인코딩 방식을 \n",
    "        # 알아내어 그 방식으로 디코딩 해줌\n",
    "        charset = f.info().get_param('charset')\n",
    "        data = f.read().decode(charset)\n",
    "        # 이미지를 찾기 위해 parse_image() 함수를 호출\n",
    "    dataSet = parse_image(data)\n",
    "    print('\\n>>>> Fetch Images from', url)\n",
    "    print('\\n'.join(sorted(dataSet))) # 찾은 이미지들을 정렬하여 라인별로 출력\n",
    "        \n",
    "if __name__ == '__main__':\n",
    "    main()\n",
    "            \n",
    "    \n",
    "    \n",
    "    "
   ]
  },
  {
   "cell_type": "code",
   "execution_count": null,
   "metadata": {},
   "outputs": [],
   "source": []
  }
 ],
 "metadata": {
  "kernelspec": {
   "display_name": "Python 3",
   "language": "python",
   "name": "python3"
  },
  "language_info": {
   "codemirror_mode": {
    "name": "ipython",
    "version": 3
   },
   "file_extension": ".py",
   "mimetype": "text/x-python",
   "name": "python",
   "nbconvert_exporter": "python",
   "pygments_lexer": "ipython3",
   "version": "3.7.2"
  }
 },
 "nbformat": 4,
 "nbformat_minor": 2
}
