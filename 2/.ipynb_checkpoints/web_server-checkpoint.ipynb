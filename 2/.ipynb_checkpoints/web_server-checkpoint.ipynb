{
 "cells": [
  {
   "cell_type": "markdown",
   "metadata": {},
   "source": [
    "# 웹 서버  "
   ]
  },
  {
   "cell_type": "code",
   "execution_count": null,
   "metadata": {},
   "outputs": [],
   "source": [
    "# http 통신에서 클라이언트의 요청을 받고 이를 처리하여 그 결과를 되돌려주는 것 \n",
    "\n",
    "from http.server import HTTPServer, BaseHTTPRequestHandler\n",
    "\n",
    "class MyHandler(BaseHTTPRequestHandler): # BaseHTTPRequestHandler 를 상속받아\n",
    "    # 원하는 로직으로 핸들러 클래스를 정의 \n",
    "    # BaseHTTPRequestHandler : 핸들러를 만들기 위한 기반 클래스로, \n",
    "    # HTTP 프로토콜 처리 로직이 들어있음\n",
    "    # 이 클래스를 상속받아, 자신의 로직 처리를 담당하는 핸들러 클래스를 만듦\n",
    "    def do_GET(self):\n",
    "        self.send_response(200, 'OK')\n",
    "        self.send_hander('Content-Type', 'text/plain')\n",
    "        self.end_headers()\n",
    "        self.wfile.write(b'Hello World')\n",
    "        \n",
    "if __name__ == '__main__':\n",
    "    # 서버의 IP, PORT 및 핸들러 클래스를 인지로 하여 HTTPServer 객체를 생성함\n",
    "    server = HTTPServer(('', 8888), MyHandler)\n",
    "    # HTTPServer : 웹서버를 만들기 위한 클래스로, 서버 IP와 PORT를 바인딩 함\n",
    "    # HTTPServer 객체 생성 시 핸들러 클래스 반드시 필요함 \n",
    "    print('Started WebServer on port 8888...')\n",
    "    print('Press ^C to quit WebServer.')\n",
    "    server.serve_forever() # HTTPServer 객체의 serve_forever() 메소드 호출"
   ]
  },
  {
   "cell_type": "code",
   "execution_count": null,
   "metadata": {},
   "outputs": [],
   "source": []
  }
 ],
 "metadata": {
  "kernelspec": {
   "display_name": "Python 3",
   "language": "python",
   "name": "python3"
  },
  "language_info": {
   "codemirror_mode": {
    "name": "ipython",
    "version": 3
   },
   "file_extension": ".py",
   "mimetype": "text/x-python",
   "name": "python",
   "nbconvert_exporter": "python",
   "pygments_lexer": "ipython3",
   "version": "3.7.2"
  }
 },
 "nbformat": 4,
 "nbformat_minor": 2
}
