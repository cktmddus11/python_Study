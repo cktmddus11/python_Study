{
 "cells": [
  {
   "cell_type": "markdown",
   "metadata": {},
   "source": [
    "# http.client 모듈\n",
    "## get, post 이외의 방식으로 요청을 보내거나 요청 헤더와 바디 사이에 타이머를 두어 시간을 지연시키는 등 urllib.request 모듈로는 쉽게 처리할 수 없는 경우 혹은 HTTP 프로토콜 요청에 대한 저수준의 더 세밀한 기능이 필요할 때는 http.client 모듈을 사용함\n",
    "\n",
    "\n",
    "### http.client 모듈 사용시 코딩 순서\n",
    "### 1. 연결 객체 생성 conn = http.client.HTTPConnection('www.python.org')\n",
    "### 2. 요청을 보냄 conn.request('GET', '/index.html')\n",
    "### 3. 응답 객체 생성 response = conn.getresponse()\n",
    "### 4. 응답 데이터 읽음 data = response.read()\n",
    "### 5. 연결을 닫음 conn.close()\n"
   ]
  },
  {
   "cell_type": "code",
   "execution_count": 10,
   "metadata": {},
   "outputs": [
    {
     "name": "stdout",
     "output_type": "stream",
     "text": [
      "200 OK\n"
     ]
    }
   ],
   "source": [
    "# GET 메소드로 요청 보내는 예제\n",
    "\n",
    "from http.client import HTTPConnection\n",
    "\n",
    "host = 'www.example.com'\n",
    "conn = HTTPConnection(host) # 연결 객체 생성\n",
    "conn.request('GET', '/') # 요청 보냄\n",
    "r1 = conn.getresponse() # 응답 객체 생성\n",
    "print(r1.status, r1.reason) # 응답 상태, 응답 이유? 출력 "
   ]
  },
  {
   "cell_type": "code",
   "execution_count": 15,
   "metadata": {},
   "outputs": [
    {
     "data": {
      "text/plain": [
       "<bound method HTTPConnection.close of <http.client.HTTPConnection object at 0x02B03930>>"
      ]
     },
     "execution_count": 15,
     "metadata": {},
     "output_type": "execute_result"
    }
   ],
   "source": [
    "data1 = r1.read() # 응답 데이터 읽음\n",
    "# 일부만 읽으면 request() 요청을 할수 없다?\n",
    "data1 = r1.read(100)\n",
    "conn.close"
   ]
  },
  {
   "cell_type": "code",
   "execution_count": 16,
   "metadata": {},
   "outputs": [
    {
     "name": "stdout",
     "output_type": "stream",
     "text": [
      "200 OK\n"
     ]
    }
   ],
   "source": [
    "conn.request('GET', '/')\n",
    "r2 = conn.getresponse()\n",
    "print(r2.status, r2.reason)"
   ]
  },
  {
   "cell_type": "code",
   "execution_count": 18,
   "metadata": {},
   "outputs": [
    {
     "name": "stdout",
     "output_type": "stream",
     "text": [
      "\n"
     ]
    },
    {
     "data": {
      "text/plain": [
       "<bound method HTTPConnection.close of <http.client.HTTPConnection object at 0x02B03930>>"
      ]
     },
     "execution_count": 18,
     "metadata": {},
     "output_type": "execute_result"
    }
   ],
   "source": [
    "data2 = r2.read()\n",
    "print(data2.decode())\n",
    "conn.close"
   ]
  },
  {
   "cell_type": "code",
   "execution_count": 23,
   "metadata": {},
   "outputs": [
    {
     "name": "stdout",
     "output_type": "stream",
     "text": [
      "200 OK\n",
      "0\n",
      "True\n"
     ]
    },
    {
     "data": {
      "text/plain": [
       "<bound method HTTPConnection.close of <http.client.HTTPConnection object at 0x059A4B70>>"
      ]
     },
     "execution_count": 23,
     "metadata": {},
     "output_type": "execute_result"
    }
   ],
   "source": [
    "#  HEAD 메소드로 요청 보내는 예제\n",
    "from http.client import HTTPConnection\n",
    "\n",
    "conn = HTTPConnection('www.example.com')\n",
    "conn.request('HEAD', '/')\n",
    "resp = conn.getresponse()\n",
    "print(resp.status, resp.reason)\n",
    "data = resp.read()\n",
    "print(len(data))\n",
    "print(data == b'')\n",
    "conn.close"
   ]
  },
  {
   "cell_type": "code",
   "execution_count": 27,
   "metadata": {},
   "outputs": [
    {
     "name": "stdout",
     "output_type": "stream",
     "text": [
      "200 OK\n",
      "<!DOCTYPE html>\n",
      "<html lang=\"ko\">\n",
      "\n",
      "\n",
      "\n",
      "<head>\n",
      "\n",
      "    <meta charset=\"utf-8\">\n",
      "    <meta http-equiv=\"X-UA-Compatible\" content=\"IE=edge\">\n",
      "    <meta name=\"viewport\" content=\"width=device-width, initial-scale=1\">\n",
      "\n",
      "    <title>ch2-test-server</title>\n",
      "\n",
      "    <link rel=\"stylesheet\" href=\"https://maxcdn.bootstrapcdn.com/bootstrap/3.3.6/css/bootstrap.min.css\">\n",
      "    <link rel=\"stylesheet\" href=\"https://maxcdn.bootstrapcdn.com/bootstrap/3.3.6/css/bootstrap-theme.min.css\">\n",
      "\n",
      "    <!-- my css -->\n",
      "    <link rel=\"shortcut icon\" href=\"/static/img/favicon.ico\">\n",
      "\n",
      "    <style type=\"text/css\">\n",
      "    .homewindow {\n",
      "        background-size: 100%;\n",
      "        height: 500px;\n",
      "        border-top: 10px solid #ccc;\n",
      "        border-bottom: 10px solid #ccc;\n",
      "        padding: 20px 100px;\n",
      "    }\n",
      "    .title {\n",
      "        color: #c80;\n",
      "        font-weight: bold;\n",
      "    }\n",
      "    .homewindow ul li {\n",
      "        font-weight: bold;\n",
      "        line-height: 30px;\n",
      "    }\n",
      "    </style>\n",
      "\n",
      "</head>\n",
      "\n",
      "<body style=\"padding-top:90px;\">\n",
      "\n",
      "    <div class=\"homewindow\">\n",
      "        <h2 class=\"title\">Django - Python Web Programming</h2>\n",
      "        <br>\n",
      "        <h3 style=\"margin-left: 25px;\">ch2-test-server 를 사용하는 예제 리스트</h3>\n",
      "        <ul>\n",
      "            <li>예제 2-2 urlopen() 함수 - POST 방식 요청</li>\n",
      "            <li>예제 2-3 urlopen() 함수 - Request 클래스로 요청 헤더 지정</li>\n",
      "            <li>예제 2-4 urlopen() 함수 - HTTPBasicAuthHandler 클래스로 인증 요청</li>\n",
      "            <li>예제 2-5 urlopen() 함수 - HTTPCookieProcessor 클래스로 쿠키 데이터를 포함하여 요청</li>\n",
      "            <li>예제 2-10 http.client 모듈 사용 - POST 방식 요청</li>\n",
      "            <li>예제 2-11 http.client 모듈 사용 - PUT 방식 요청</li>\n",
      "        </ul>\n",
      "    </div>\n",
      "\n",
      "</body>\n",
      "</html>\n"
     ]
    }
   ],
   "source": [
    "# Post 메소드로  요청을 보내는 예제\n",
    "\n",
    "from urllib.parse import urlencode\n",
    "\n",
    "host = 'localhost:8000'\n",
    " # post 요청 보낼 파라미터에 대해 url 인코딩\n",
    "params = urlencode({\n",
    "    'language' : 'python',\n",
    "    'name' : '김석훈',\n",
    "    'email' : 'shkim@naver.com'\n",
    "})\n",
    "# post 요청으로 보낼 헤더를 사전 타입으로 지정\n",
    "headers = {\n",
    "    'Content-Type' : 'application/x-www-form-urlencoded',\n",
    "    'Accept' : 'text/plain',\n",
    "}\n",
    "\n",
    "conn = HTTPConnection(host)\n",
    "conn.request('POST', '/')\n",
    "\n",
    "resp = conn.getresponse() # 응답 객체 생성\n",
    "print(resp.status, resp.reason) \n",
    "data = resp.read() # 응답 데이터 읽음\n",
    "print(data.decode('utf-8'))\n",
    "conn.close()\n",
    "\n",
    "\n"
   ]
  },
  {
   "cell_type": "markdown",
   "metadata": {},
   "source": [
    "## http.client모듈 예제\n",
    "### 특정 웹 사이트에서 이미지만을 검색하여 그 이미지들을 다운로드하는 코드\n"
   ]
  },
  {
   "cell_type": "code",
   "execution_count": 30,
   "metadata": {
    "scrolled": true
   },
   "outputs": [
    {
     "name": "stdout",
     "output_type": "stream",
     "text": [
      "\n",
      ">>>>> Download Image from www.google.co.kr\n",
      "Downloading... http://www.google.co.kr/images/branding/googlelogo/1x/googlelogo_white_background_color_272x92dp.png\n",
      "Downloading... http://www.google.co.kr/textinputassistant/tia.png\n"
     ]
    }
   ],
   "source": [
    "import os\n",
    "from http.client import HTTPConnection\n",
    "from urllib.parse import urljoin, urlunparse # urlunparse : urlparse 로 분해한 url을 다시 합침\n",
    "                                                                    # urljoin : 기본 url www.naver.com/뒤에 잡다한게 ...\n",
    "from urllib.request import urlretrieve # url의 이미지 다운받을 떄 쓰는 함수\n",
    "from html.parser import HTMLParser\n",
    "\n",
    "class ImageParser(HTMLParser):\n",
    "    def handle_starttag(self, tag, attrs):\n",
    "        if tag != 'img': \n",
    "            return\n",
    "        if not hasattr(self, 'result'):\n",
    "            self.result = []\n",
    "        for name, value in attrs:\n",
    "            if name == 'src':\n",
    "                self.result.append(value)\n",
    "    \n",
    "    \n",
    "def download_image(url, data):\n",
    "    if not os.path.exists('DOWNLOAD'): # 다운 받은 이미지 저장 경로 생성 \n",
    "        # DOWNLOAD 경로가 없으면\n",
    "        os.makedirs('DOWNLOAD')  # 디렉토리가 없으면 만들어줌\n",
    "    parser = ImageParser()\n",
    "    parser.feed(data)\n",
    "    dataSet = set(x for x in parser.result)\n",
    "    \n",
    "    for x in sorted(dataSet): # dataSet으로 모은 파싱 결과를 정렬한 후에 하나씩 처리\n",
    "        # 다운로드 하기 위해 URL과 타킷 파일명을 지정\n",
    "        # 소스 URL을 지정할 떄 urljoin() 함수를 사용\n",
    "        # urljoin() 함수는 baseURL 과 파일명을 함쳐서 완전한  URL 리턴하는 함수\n",
    "        imageUrl = urljoin(url, x) # 10\n",
    "        basename = os.path.basename(imageUrl)\n",
    "        targetFile = os.path.join('DOWNLOAD', basename)\n",
    "        \n",
    "        print(\"Downloading...\", imageUrl)\n",
    "        # 이미지 파일을 다운로드 하기 위해 urlretrieve() 함수를 사용\n",
    "        # urlretrieve() 함수는 src 로부터 파일을 가져와서 targetFile 파일로 생성\n",
    "        urlretrieve(imageUrl, targetFile)# 11\n",
    "\n",
    "def main():\n",
    "    host = 'www.google.co.kr'\n",
    "    \n",
    "    conn = HTTPConnection(host)\n",
    "    conn.request('GET', '')\n",
    "    resp = conn.getresponse()\n",
    "    \n",
    "    charset = resp.msg.get_param('charset')\n",
    "    data = resp.read().decode(charset)\n",
    "    conn.close()\n",
    "    \n",
    "    print('\\n>>>>> Download Image from', host)\n",
    "    url = urlunparse(('http', host,'', '', '', ''))\n",
    "    download_image(url, data)\n",
    "    \n",
    "if __name__ == '__main__':\n",
    "    main()\n",
    "    \n",
    "    \n",
    "        \n",
    "    \n",
    "    \n",
    "    \n",
    "    \n",
    "            \n",
    "            \n",
    "            \n",
    "        \n",
    " "
   ]
  },
  {
   "cell_type": "code",
   "execution_count": null,
   "metadata": {},
   "outputs": [],
   "source": []
  }
 ],
 "metadata": {
  "kernelspec": {
   "display_name": "Python 3",
   "language": "python",
   "name": "python3"
  },
  "language_info": {
   "codemirror_mode": {
    "name": "ipython",
    "version": 3
   },
   "file_extension": ".py",
   "mimetype": "text/x-python",
   "name": "python",
   "nbconvert_exporter": "python",
   "pygments_lexer": "ipython3",
   "version": "3.7.2"
  }
 },
 "nbformat": 4,
 "nbformat_minor": 2
}
