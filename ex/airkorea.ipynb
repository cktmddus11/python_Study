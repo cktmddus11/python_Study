{
 "cells": [
  {
   "cell_type": "markdown",
   "metadata": {},
   "source": [
    "# 공공 데이터 분석\n",
    "## 시도별 실시간 평균 정보 조회\n",
    "\n",
    "### pm10 미세먼지"
   ]
  },
  {
   "cell_type": "markdown",
   "metadata": {},
   "source": [
    "#### 서울 시간별 미세먼지 평균 정보 "
   ]
  },
  {
   "cell_type": "code",
   "execution_count": 42,
   "metadata": {},
   "outputs": [
    {
     "data": {
      "text/plain": [
       "[['23:00', '60'],\n",
       " ['22:00', '58'],\n",
       " ['21:00', '64'],\n",
       " ['20:00', '71'],\n",
       " ['19:00', '69'],\n",
       " ['18:00', '62'],\n",
       " ['17:00', '57'],\n",
       " ['16:00', '55'],\n",
       " ['15:00', '58'],\n",
       " ['14:00', '58']]"
      ]
     },
     "execution_count": 42,
     "metadata": {},
     "output_type": "execute_result"
    }
   ],
   "source": [
    "import pandas as pd\n",
    "from bs4 import BeautifulSoup\n",
    "import requests\n",
    "\n",
    "url = 'http://openapi.airkorea.or.kr/openapi/services/rest/ArpltnInforInqireSvc/getCtprvnMesureLIst?serviceKey=Maa8ufPV8ii1%2Foo2nfkeluCaK82ztsmH3GFWfM8x%2FSJ389OIZKvzj6Rb%2Bh71TP2jtu%2B%2BPJbw%2F4zCK%2BffriHrRg%3D%3D&numOfRows=10&pageNo=1&itemCode=PM10&dataGubun=HOUR&searchCondition=MONTH'\n",
    "\n",
    "req =  requests.get(url)\n",
    "html = req.text\n",
    "soup = BeautifulSoup(html, 'html.parser')\n",
    "\n",
    "data = []\n",
    "\n",
    "items =  soup.find('items')\n",
    "for item in items.find_all('item'): \n",
    "    seoul = list(item.find_all('seoul'))                                   \n",
    "    time = list(item.find_all('datatime'))\n",
    "    seoul_data = seoul[0].text\n",
    "    time_data = time[0].text\n",
    "    time_slice = time_data[11:]\n",
    "    data.append([time_slice, seoul_data])\n",
    "    \n",
    "data"
   ]
  },
  {
   "cell_type": "code",
   "execution_count": 45,
   "metadata": {},
   "outputs": [],
   "source": [
    "with open('미세먼지(2).csv', 'w') as file: # data 리스트 내용 csv 파일로 저장\n",
    "    file.write('dataTime,fine dust\\n')\n",
    "    for i in data:\n",
    "        file.write('{0}, {1}\\n'.format(i[0], i[1]))"
   ]
  },
  {
   "cell_type": "code",
   "execution_count": 46,
   "metadata": {},
   "outputs": [
    {
     "data": {
      "text/html": [
       "<div>\n",
       "<style scoped>\n",
       "    .dataframe tbody tr th:only-of-type {\n",
       "        vertical-align: middle;\n",
       "    }\n",
       "\n",
       "    .dataframe tbody tr th {\n",
       "        vertical-align: top;\n",
       "    }\n",
       "\n",
       "    .dataframe thead th {\n",
       "        text-align: right;\n",
       "    }\n",
       "</style>\n",
       "<table border=\"1\" class=\"dataframe\">\n",
       "  <thead>\n",
       "    <tr style=\"text-align: right;\">\n",
       "      <th></th>\n",
       "      <th>fine dust</th>\n",
       "    </tr>\n",
       "    <tr>\n",
       "      <th>dataTime</th>\n",
       "      <th></th>\n",
       "    </tr>\n",
       "  </thead>\n",
       "  <tbody>\n",
       "    <tr>\n",
       "      <th>23:00</th>\n",
       "      <td>60</td>\n",
       "    </tr>\n",
       "    <tr>\n",
       "      <th>22:00</th>\n",
       "      <td>58</td>\n",
       "    </tr>\n",
       "    <tr>\n",
       "      <th>21:00</th>\n",
       "      <td>64</td>\n",
       "    </tr>\n",
       "    <tr>\n",
       "      <th>20:00</th>\n",
       "      <td>71</td>\n",
       "    </tr>\n",
       "    <tr>\n",
       "      <th>19:00</th>\n",
       "      <td>69</td>\n",
       "    </tr>\n",
       "    <tr>\n",
       "      <th>18:00</th>\n",
       "      <td>62</td>\n",
       "    </tr>\n",
       "    <tr>\n",
       "      <th>17:00</th>\n",
       "      <td>57</td>\n",
       "    </tr>\n",
       "    <tr>\n",
       "      <th>16:00</th>\n",
       "      <td>55</td>\n",
       "    </tr>\n",
       "    <tr>\n",
       "      <th>15:00</th>\n",
       "      <td>58</td>\n",
       "    </tr>\n",
       "    <tr>\n",
       "      <th>14:00</th>\n",
       "      <td>58</td>\n",
       "    </tr>\n",
       "  </tbody>\n",
       "</table>\n",
       "</div>"
      ],
      "text/plain": [
       "          fine dust\n",
       "dataTime           \n",
       "23:00            60\n",
       "22:00            58\n",
       "21:00            64\n",
       "20:00            71\n",
       "19:00            69\n",
       "18:00            62\n",
       "17:00            57\n",
       "16:00            55\n",
       "15:00            58\n",
       "14:00            58"
      ]
     },
     "execution_count": 46,
     "metadata": {},
     "output_type": "execute_result"
    }
   ],
   "source": [
    "%matplotlib inline\n",
    "\n",
    "import pandas as pd\n",
    "import matplotlib as mpl\n",
    "import matplotlib.pyplot as plt\n",
    "\n",
    "df = pd.read_csv('미세먼지(2).csv', index_col = 'dataTime', encoding = 'euc-kr')\n",
    "df\n"
   ]
  },
  {
   "cell_type": "code",
   "execution_count": 48,
   "metadata": {},
   "outputs": [
    {
     "data": {
      "text/plain": [
       "<matplotlib.legend.Legend at 0x5461a10>"
      ]
     },
     "execution_count": 48,
     "metadata": {},
     "output_type": "execute_result"
    },
    {
     "data": {
      "image/png": "[encoded data removed]",
      "text/plain": [
       "<Figure size 864x504 with 1 Axes>"
      ]
     },
     "metadata": {
      "needs_background": "light"
     },
     "output_type": "display_data"
    }
   ],
   "source": [
    "font_name = mpl.font_manager.FontProperties(fname='C:/Windows/Fonts/malgun.ttf').get_name()\n",
    "mpl.rc('font', family=font_name) # 폰트 설정\n",
    "\n",
    "ax = df.plot(kind='bar', title='날씨', figsize =(12, 7), legend=True, fontsize=12 )\n",
    "ax.set_xlabel('시간', fontsize=12) # x 축 정보 표시\n",
    "ax.set_ylabel('미세먼지', fontsize=12) # y 축 정보 표시\n",
    "ax.legend(['시간'], fontsize=12) # 범례 지정"
   ]
  },
  {
   "cell_type": "code",
   "execution_count": null,
   "metadata": {},
   "outputs": [],
   "source": []
  }
 ],
 "metadata": {
  "kernelspec": {
   "display_name": "Python 3",
   "language": "python",
   "name": "python3"
  },
  "language_info": {
   "codemirror_mode": {
    "name": "ipython",
    "version": 3
   },
   "file_extension": ".py",
   "mimetype": "text/x-python",
   "name": "python",
   "nbconvert_exporter": "python",
   "pygments_lexer": "ipython3",
   "version": "3.7.2"
  }
 },
 "nbformat": 4,
 "nbformat_minor": 2
}
